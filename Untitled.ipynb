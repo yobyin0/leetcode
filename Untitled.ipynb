{
 "cells": [
  {
   "cell_type": "code",
   "execution_count": 10,
   "metadata": {},
   "outputs": [
    {
     "name": "stdout",
     "output_type": "stream",
     "text": [
      "True\n"
     ]
    }
   ],
   "source": [
    "# Definition for a binary tree node.\n",
    "class TreeNode(object):\n",
    "    def __init__(self, x):\n",
    "        self.val = x\n",
    "        self.left = None\n",
    "        self.right = None\n",
    " \n",
    "class Solution(object):\n",
    "    def isSameTree(self, p, q):\n",
    "        \"\"\"\n",
    "        :type p: TreeNode\n",
    "        :type q: TreeNode\n",
    "        :rtype: bool\n",
    "        \"\"\"\n",
    "        def read_tree(tree,r_list):\n",
    "            if tree==None:\n",
    "                r_list.append('null')\n",
    "            else:\n",
    "                r_list.append(tree.val)\n",
    "                read_tree(tree.left,r_list)\n",
    "                read_tree(tree.right,r_list)\n",
    "            return r_list\n",
    "        \n",
    "        r1 = read_tree(p,[])\n",
    "        \n",
    "        r2 = read_tree(q,[])\n",
    "        \n",
    "        if r1==r2:\n",
    "            return True\n",
    "        else:\n",
    "            return False\n",
    "\n",
    "if __name__=='__main__':\n",
    "    s=Solution()\n",
    "    t1=TreeNode([3,2,1])\n",
    "    t2=TreeNode([3,2,1])\n",
    "    print(s.isSameTree(t1,t2))"
   ]
  },
  {
   "cell_type": "code",
   "execution_count": null,
   "metadata": {},
   "outputs": [],
   "source": []
  }
 ],
 "metadata": {
  "kernelspec": {
   "display_name": "py3guofeng",
   "language": "python",
   "name": "py3guofeng"
  },
  "language_info": {
   "codemirror_mode": {
    "name": "ipython",
    "version": 3
   },
   "file_extension": ".py",
   "mimetype": "text/x-python",
   "name": "python",
   "nbconvert_exporter": "python",
   "pygments_lexer": "ipython3",
   "version": "3.4.5"
  }
 },
 "nbformat": 4,
 "nbformat_minor": 2
}
