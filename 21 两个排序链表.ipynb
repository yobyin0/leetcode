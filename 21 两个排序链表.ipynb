{
 "cells": [
  {
   "cell_type": "code",
   "execution_count": 3,
   "metadata": {},
   "outputs": [
    {
     "name": "stdout",
     "output_type": "stream",
     "text": [
      "[1, 2, 3, 4, 5, 7, 8, 9, 11, 13, 20]\n"
     ]
    },
    {
     "data": {
      "text/plain": [
       "[1, 2, 3, 4, 5, 7, 8, 9, 11, 13, 20]"
      ]
     },
     "execution_count": 3,
     "metadata": {},
     "output_type": "execute_result"
    }
   ],
   "source": [
    "def combine(list1,list2):\n",
    "    result = []\n",
    "    while list1 and list2:\n",
    "        if list1[0] < list2[0]:\n",
    "            result.append(list1[0])\n",
    "            del list1[0]\n",
    "        else:\n",
    "            result.append(list2[0])\n",
    "            del list2[0]\n",
    "    if list1:\n",
    "        result.extend(list1)\n",
    "    if list2:\n",
    "        result.extend(list2)\n",
    "    print(result)\n",
    "    return result\n",
    "\n",
    "list1 = [3,4,7,9,11]\n",
    "list2 = [1,2,5,8,13,20]\n",
    "combine(list1, list2)\n"
   ]
  },
  {
   "cell_type": "code",
   "execution_count": null,
   "metadata": {},
   "outputs": [],
   "source": []
  }
 ],
 "metadata": {
  "kernelspec": {
   "display_name": "py3guofeng",
   "language": "python",
   "name": "py3guofeng"
  },
  "language_info": {
   "codemirror_mode": {
    "name": "ipython",
    "version": 3
   },
   "file_extension": ".py",
   "mimetype": "text/x-python",
   "name": "python",
   "nbconvert_exporter": "python",
   "pygments_lexer": "ipython3",
   "version": "3.4.5"
  }
 },
 "nbformat": 4,
 "nbformat_minor": 2
}
