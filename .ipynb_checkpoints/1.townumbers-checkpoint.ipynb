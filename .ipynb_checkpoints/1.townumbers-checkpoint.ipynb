{
 "cells": [
  {
   "cell_type": "code",
   "execution_count": 8,
   "metadata": {},
   "outputs": [],
   "source": [
    "\"\"\"\n",
    "给定一个整数数列，找出其中和为特定值的那两个数。\n",
    "\n",
    "你可以假设每个输入都只会有一种答案，同样的元素不能被重用。\n",
    "\n",
    "示例:\n",
    "\n",
    "给定 nums = [2, 7, 11, 15], target = 9\n",
    "\n",
    "因为 nums[0] + nums[1] = 2 + 7 = 9\n",
    "所以返回 [0, 1]\n",
    "\"\"\"\n",
    "\n",
    "class addmethod1:\n",
    "   def twoSum(self,nums,target):\n",
    "       for i in range(len(nums)):\n",
    "           if target-nums[i] in nums[i+1:]:\n",
    "              #print nums[nums.index(target-nums[i],i+1)]\n",
    "              return [i,nums.index(target-nums[i],i+1)]\n",
    "\n",
    "class addmethod2(object):\n",
    "    def twoSum(self,nums,target):\n",
    "        dic=dict()\n",
    "        for index,value in enumerate(nums):\n",
    "            sub=target-value\n",
    "            if sub in dic:\n",
    "                return [dic[sub],index]\n",
    "            else:\n",
    "                dic[value]=index"
   ]
  },
  {
   "cell_type": "code",
   "execution_count": null,
   "metadata": {},
   "outputs": [],
   "source": []
  },
  {
   "cell_type": "code",
   "execution_count": 14,
   "metadata": {},
   "outputs": [
    {
     "name": "stdout",
     "output_type": "stream",
     "text": [
      "method2= [1, 4]\n",
      "method2= [1, 4]\n"
     ]
    }
   ],
   "source": [
    "if __name__=='__main__':\n",
    "   add1=addmethod1()\n",
    "   method1=add1.twoSum([11,7,1,15,2,3],9)\n",
    "   print('method1=',method1)\n",
    "   add2=addmethod2()\n",
    "   method2=add2.twoSum([11,7,1,15,2,3],9)\n",
    "   print( 'method2=',method2)\n",
    "   \n"
   ]
  },
  {
   "cell_type": "code",
   "execution_count": null,
   "metadata": {},
   "outputs": [],
   "source": []
  },
  {
   "cell_type": "code",
   "execution_count": null,
   "metadata": {},
   "outputs": [],
   "source": []
  }
 ],
 "metadata": {
  "kernelspec": {
   "display_name": "py3guofeng",
   "language": "python",
   "name": "py3guofeng"
  },
  "language_info": {
   "codemirror_mode": {
    "name": "ipython",
    "version": 3
   },
   "file_extension": ".py",
   "mimetype": "text/x-python",
   "name": "python",
   "nbconvert_exporter": "python",
   "pygments_lexer": "ipython3",
   "version": "3.4.5"
  }
 },
 "nbformat": 4,
 "nbformat_minor": 2
}
