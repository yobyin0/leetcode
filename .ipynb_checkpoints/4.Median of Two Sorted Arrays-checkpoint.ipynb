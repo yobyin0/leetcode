{
 "cells": [
  {
   "cell_type": "code",
   "execution_count": 6,
   "metadata": {},
   "outputs": [],
   "source": [
    "\"\"\"\n",
    "【描述】There are two sorted arrays nums1 and nums2 of size m and n respectively. Find the median of the two sorted arrays. The overall run time complexity should be O(log (m+n)).\n",
    "\n",
    "【中文描述】两个已排序数组（默认为从小到大排序）nums1 和 nums2, 大小分别为m,n。 要求找到这两个数组合并后的中位数。总的运行时间复杂度不能超过O(log(m+n))。\n",
    "\"\"\"\n",
    "import pandas as pd\n",
    "class test(object):\n",
    "    def getMedian(self,nums):\n",
    "        size=len(nums)\n",
    "        if size==0:\n",
    "            return [0,0]\n",
    "        if size%2==1:\n",
    "             return [nums[size // 2],size // 2]\n",
    "        return [(float(nums[size // 2 - 1] + nums[size // 2])) / 2,size // 2]\n",
    "            \n",
    "    def findsorttedarray(self,nums1,nums2):\n",
    "        size1=len(nums1)\n",
    "        size2=len(nums2)\n",
    "        if size1<size2:\n",
    "            return self.findsorttedarray(nums2,nums1)\n",
    "        m1=self.getmedian(nums1)\n",
    "        m2=self.getmedian(nums2)\n",
    "        \n",
    "        if size2 == 0:\n",
    "            return m1[0]\n",
    "        if size2 == 1:\n",
    "            if size1 == 1:\n",
    "                return (float(nums1[0] + nums2[0])) / 2\n",
    "            if size1 % 2 == 0:\n",
    "                if nums2[0] < nums1[size1 //2 - 1]:\n",
    "                    return nums1[size1 // 2 - 1]\n",
    "                if nums2[0] > nums1[size1 // 2 ]:\n",
    "                    return nums1[size1 // 2]\n",
    "                else:\n",
    "                    return nums2[0]\n",
    "            else:\n",
    "                if nums2[0] < nums1[size1 // 2 - 1]:\n",
    "                    return (float(nums1[size1 // 2 - 1] + nums1[size1 // 2])) / 2\n",
    "                if nums2[0] > nums1[size1 // 2 + 1]:\n",
    "                    return (float(nums1[size1 // 2] + nums1[size1 // 2 + 1])) / 2\n",
    "                else:\n",
    "                    return (float(nums2[0] + nums1[size1 // 2])) / 2\n",
    "        if size2 % 2 == 0:\n",
    "            if size1 % 2 == 0:\n",
    "                if nums2[size2 // 2 - 1] < nums1[size1 //2 - 1] and nums2[size2 // 2] > nums1[size1 // 2]:\n",
    "                    return m1[0]\n",
    "                if nums1[size1 // 2 - 1] < nums2[size2 // 2 - 1] and nums1[size1 // 2] > nums2[size2 // 2]:\n",
    "                    return m2[0]\n",
    "        if m1[0] < m2[0]:\n",
    "            return self.findMedianSortedArrays(nums1[m2[1]:],nums2[:size2 - m2[1]])\n",
    "        if m1[0] > m2[0]:\n",
    "            return self.findMedianSortedArrays(nums1[:size1 - m2[1]],nums2[m2[1]:])\n",
    "        else:\n",
    "            return m1[0]"
   ]
  },
  {
   "cell_type": "code",
   "execution_count": 7,
   "metadata": {},
   "outputs": [],
   "source": [
    "if __name__=='main':\n",
    "    m=test()\n",
    "    print(m.findsorttedarray([1,2,3,4],[6,7,8,9,10]))"
   ]
  },
  {
   "cell_type": "code",
   "execution_count": null,
   "metadata": {},
   "outputs": [],
   "source": []
  },
  {
   "cell_type": "code",
   "execution_count": null,
   "metadata": {},
   "outputs": [],
   "source": []
  },
  {
   "cell_type": "code",
   "execution_count": null,
   "metadata": {},
   "outputs": [],
   "source": []
  }
 ],
 "metadata": {
  "kernelspec": {
   "display_name": "py3guofeng",
   "language": "python",
   "name": "py3guofeng"
  },
  "language_info": {
   "codemirror_mode": {
    "name": "ipython",
    "version": 3
   },
   "file_extension": ".py",
   "mimetype": "text/x-python",
   "name": "python",
   "nbconvert_exporter": "python",
   "pygments_lexer": "ipython3",
   "version": "3.4.5"
  }
 },
 "nbformat": 4,
 "nbformat_minor": 2
}
