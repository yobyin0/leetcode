{
 "cells": [
  {
   "cell_type": "code",
   "execution_count": 14,
   "metadata": {},
   "outputs": [
    {
     "name": "stdout",
     "output_type": "stream",
     "text": [
      "2\n"
     ]
    }
   ],
   "source": [
    "# Definition for singly-linked list.  \n",
    "# class ListNode:  \n",
    "#     def __init__(self, x):  \n",
    "#         self.val = x  \n",
    "#         self.next = None  \n",
    "  \n",
    "class Solution:  \n",
    "    # @param head, a ListNode  \n",
    "    # @return a ListNode  \n",
    "    def deleteDuplicates(self, head):  \n",
    "        p = head  \n",
    "  \n",
    "        while p != None:  \n",
    "            while p.next != None and p.val == p.next.val:  \n",
    "                p.next = p.next.next  \n",
    "            p = p.next  \n",
    "  \n",
    "        return head  \n",
    "if __name__=='__main__':\n",
    "    s=solution()\n",
    "    print(s.removeDuplicates([1,1,3,4,5,5,6]))\n",
    "        \n",
    "    \n",
    "            "
   ]
  },
  {
   "cell_type": "code",
   "execution_count": null,
   "metadata": {},
   "outputs": [],
   "source": []
  },
  {
   "cell_type": "code",
   "execution_count": null,
   "metadata": {},
   "outputs": [],
   "source": []
  },
  {
   "cell_type": "code",
   "execution_count": null,
   "metadata": {},
   "outputs": [],
   "source": []
  }
 ],
 "metadata": {
  "kernelspec": {
   "display_name": "py3guofeng",
   "language": "python",
   "name": "py3guofeng"
  },
  "language_info": {
   "codemirror_mode": {
    "name": "ipython",
    "version": 3
   },
   "file_extension": ".py",
   "mimetype": "text/x-python",
   "name": "python",
   "nbconvert_exporter": "python",
   "pygments_lexer": "ipython3",
   "version": "3.4.5"
  }
 },
 "nbformat": 4,
 "nbformat_minor": 2
}
