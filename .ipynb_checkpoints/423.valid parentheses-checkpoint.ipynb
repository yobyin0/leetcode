{
 "cells": [
  {
   "cell_type": "code",
   "execution_count": 1,
   "metadata": {},
   "outputs": [
    {
     "ename": "SyntaxError",
     "evalue": "invalid syntax (<ipython-input-1-95a5b33a6fe3>, line 3)",
     "output_type": "error",
     "traceback": [
      "\u001b[0;36m  File \u001b[0;32m\"<ipython-input-1-95a5b33a6fe3>\"\u001b[0;36m, line \u001b[0;32m3\u001b[0m\n\u001b[0;31m    if s is None return False\u001b[0m\n\u001b[0m                      ^\u001b[0m\n\u001b[0;31mSyntaxError\u001b[0m\u001b[0;31m:\u001b[0m invalid syntax\n"
     ]
    }
   ],
   "source": [
    "class solution():\n",
    "    def isValidParentheses(self, s):\n",
    "        if s is None: return False\n",
    "        x=['[','(','{']\n",
    "        y=[']',')','}']\n",
    "        z=['[]','()','{}']\n",
    "        \n",
    "        res = []\n",
    "        for i in s:\n",
    "            if i in x:\n",
    "                res.append(i) # 入栈\n",
    "            elif i in y:\n",
    "                # 如果收到一个右括号，但是res中无左括号，直接返回False\n",
    "                if res == []:\n",
    "                    return False\n",
    "                else:\n",
    "                    temp = res.pop(-1) + i\n",
    "                    # 其余情况，出栈一个左括号，判断左括号+右括号是否有效\n",
    "                    if temp not in z:\n",
    "                        return False\n",
    "        # 如果所有括号对都满足，但是res还有左括号，返回False\n",
    "        if len(res) != 0:\n",
    "            return False\n",
    "        return True\n",
    "    \n",
    "if __name__=='__main__':\n",
    "    s=solution()\n",
    "    print(s.isValidParentheses(['}','}'])\n",
    "        "
   ]
  },
  {
   "cell_type": "code",
   "execution_count": null,
   "metadata": {},
   "outputs": [],
   "source": []
  }
 ],
 "metadata": {
  "kernelspec": {
   "display_name": "py3guofeng",
   "language": "python",
   "name": "py3guofeng"
  },
  "language_info": {
   "codemirror_mode": {
    "name": "ipython",
    "version": 3
   },
   "file_extension": ".py",
   "mimetype": "text/x-python",
   "name": "python",
   "nbconvert_exporter": "python",
   "pygments_lexer": "ipython3",
   "version": "3.4.5"
  }
 },
 "nbformat": 4,
 "nbformat_minor": 2
}
