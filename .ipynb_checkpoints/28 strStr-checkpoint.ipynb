{
 "cells": [
  {
   "cell_type": "code",
   "execution_count": 3,
   "metadata": {},
   "outputs": [
    {
     "name": "stdout",
     "output_type": "stream",
     "text": [
      "helloworld\n"
     ]
    }
   ],
   "source": [
    "class Solution:\n",
    "    def ComputePrefixFunction(self, needle):\n",
    "        Pi = [0 for i in range(len(needle))]\n",
    "        m = len(needle)\n",
    "        Pi[0] = 0\n",
    "        k = 0\n",
    "        for q in range(1, m):\n",
    "            while k > 0 and needle[k] != needle[q]:\n",
    "                k = Pi[k - 1]\n",
    "            if needle[k] == needle[q]:\n",
    "                k = k + 1\n",
    "            Pi[q] = k\n",
    "        return Pi\n",
    "    \n",
    "    def strStr(self, haystack, needle):\n",
    "        n = len(haystack)\n",
    "        m = len(needle)\n",
    "        if m == 0:\n",
    "            return haystack\n",
    "        Pi = self.ComputePrefixFunction(needle)\n",
    "        q = 0\n",
    "        for i in range(0, n):\n",
    "            while q > 0 and needle[q] != haystack[i]:\n",
    "                q = Pi[q - 1]\n",
    "            if needle[q] == haystack[i]:\n",
    "                q = q + 1\n",
    "            if q == m:\n",
    "                return haystack[i - m + 1:]\n",
    "        return None\n",
    "if __name__=='__main__':\n",
    "    s=Solution()\n",
    "    print(s.strStr('helloworld','hello'))\n",
    "    "
   ]
  },
  {
   "cell_type": "code",
   "execution_count": null,
   "metadata": {},
   "outputs": [],
   "source": []
  }
 ],
 "metadata": {
  "kernelspec": {
   "display_name": "py3guofeng",
   "language": "python",
   "name": "py3guofeng"
  },
  "language_info": {
   "codemirror_mode": {
    "name": "ipython",
    "version": 3
   },
   "file_extension": ".py",
   "mimetype": "text/x-python",
   "name": "python",
   "nbconvert_exporter": "python",
   "pygments_lexer": "ipython3",
   "version": "3.4.5"
  }
 },
 "nbformat": 4,
 "nbformat_minor": 2
}
