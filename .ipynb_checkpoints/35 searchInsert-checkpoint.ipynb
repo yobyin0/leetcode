{
 "cells": [
  {
   "cell_type": "markdown",
   "metadata": {},
   "source": [
    "给定一个排序数组和一个目标值，在数组中找到目标值，并返回其索引。如果目标值不存在于数组中，返回它将会被按顺序插入的位置。\n",
    "\n",
    "你可以假设数组中无重复元素。\n",
    "        "
   ]
  },
  {
   "cell_type": "code",
   "execution_count": 3,
   "metadata": {},
   "outputs": [
    {
     "name": "stdout",
     "output_type": "stream",
     "text": [
      "4\n"
     ]
    }
   ],
   "source": [
    "class Solutinon:\n",
    "    def searchInsert(self,nums,target):\n",
    "        length=len(nums)\n",
    "        if nums[0]>target:\n",
    "            return 0\n",
    "        if nums[-1]<target:\n",
    "            return length\n",
    "        for i in range(length):\n",
    "            if nums[i]==target:\n",
    "                return i\n",
    "            if target not in nums:\n",
    "                if target>nums[i] and target<nums[i+1]:\n",
    "                    return i+1\n",
    "if __name__=='__main__':\n",
    "    s=Solutinon()\n",
    "    print(s.searchInsert([1,3,4,5],6))\n",
    "    \n",
    "  "
   ]
  },
  {
   "cell_type": "code",
   "execution_count": null,
   "metadata": {},
   "outputs": [],
   "source": []
  }
 ],
 "metadata": {
  "kernelspec": {
   "display_name": "py3guofeng",
   "language": "python",
   "name": "py3guofeng"
  },
  "language_info": {
   "codemirror_mode": {
    "name": "ipython",
    "version": 3
   },
   "file_extension": ".py",
   "mimetype": "text/x-python",
   "name": "python",
   "nbconvert_exporter": "python",
   "pygments_lexer": "ipython3",
   "version": "3.4.5"
  }
 },
 "nbformat": 4,
 "nbformat_minor": 2
}
