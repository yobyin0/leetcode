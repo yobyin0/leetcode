{
 "cells": [
  {
   "cell_type": "code",
   "execution_count": 2,
   "metadata": {},
   "outputs": [
    {
     "name": "stdout",
     "output_type": "stream",
     "text": [
      "=========\n",
      "[1]\n",
      "-----------\n",
      "=========\n",
      "[1, 1]\n",
      "-----------\n",
      "=========\n",
      "[1, 2, 1]\n",
      "-----------\n",
      "=========\n",
      "[1, 3, 3, 1]\n",
      "-----------\n",
      "=========\n",
      "[1, 4, 6, 4, 1]\n",
      "-----------\n",
      "=========\n",
      "[1, 5, 10, 10, 5, 1]\n",
      "-----------\n",
      "=========\n",
      "[1, 6, 15, 20, 15, 6, 1]\n",
      "-----------\n",
      "=========\n",
      "[1, 7, 21, 35, 35, 21, 7, 1]\n",
      "-----------\n",
      "=========\n",
      "[1, 8, 28, 56, 70, 56, 28, 8, 1]\n",
      "-----------\n",
      "=========\n",
      "[1, 9, 36, 84, 126, 126, 84, 36, 9, 1]\n",
      "-----------\n"
     ]
    }
   ],
   "source": [
    "# -*- coding: utf-8 -*-\n",
    "\n",
    "def triangles():\n",
    "    N=[1]\n",
    "    while True:\n",
    "        yield N        #generator函数与普通函数的差别：在执行过程中，遇到yield就中断，下次又继续执行\n",
    "        N.append(0)\n",
    "        N=[N[i-1] + N[i] for i in range(len(N))]  #写法\n",
    "if __name__ == '__main__':\n",
    "    n=0\n",
    "    for t in triangles():\n",
    "        #print(\"=========\")\n",
    "        print(t)\n",
    "        #print(\"-----------\")\n",
    "        n=n+1\n",
    "        if n == 10:\n",
    "            break\n"
   ]
  },
  {
   "cell_type": "code",
   "execution_count": null,
   "metadata": {},
   "outputs": [],
   "source": []
  }
 ],
 "metadata": {
  "kernelspec": {
   "display_name": "py3guofeng",
   "language": "python",
   "name": "py3guofeng"
  },
  "language_info": {
   "codemirror_mode": {
    "name": "ipython",
    "version": 3
   },
   "file_extension": ".py",
   "mimetype": "text/x-python",
   "name": "python",
   "nbconvert_exporter": "python",
   "pygments_lexer": "ipython3",
   "version": "3.4.5"
  }
 },
 "nbformat": 4,
 "nbformat_minor": 2
}
