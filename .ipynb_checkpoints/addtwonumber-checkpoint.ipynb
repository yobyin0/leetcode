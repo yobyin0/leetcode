{
 "cells": [
  {
   "cell_type": "code",
   "execution_count": 45,
   "metadata": {},
   "outputs": [
    {
     "name": "stdout",
     "output_type": "stream",
     "text": [
      "708\n"
     ]
    }
   ],
   "source": [
    "\"\"\"\n",
    "You are given two linked lists representing two non-negative numbers. The digits are stored in reverse order and each of their nodes contain a single digit. Add the two numbers and return it as a linked list.\n",
    "Eg:\n",
    "Input: (2 -> 4 -> 3) + (5 -> 6 -> 4)\n",
    "Output: 7 -> 0 -> 8\n",
    "所需基础知识：\n",
    "\"\"\"\n",
    "class addmethod1(object):\n",
    "    def reverse(self,nums):\n",
    "        numbers=0\n",
    "        for i in range(len(nums)):\n",
    "            #print(10**i)\n",
    "            numbers+=nums[i]*10**i\n",
    "        return numbers\n",
    "    def addtwo(self,nums1,nums2):\n",
    "        return str(self.reverse(nums1)+self.reverse(nums2))\n",
    " \n",
    "    \n",
    "\n",
    "if __name__=='__main__':\n",
    "    add1=addmethod1()\n",
    "    s=add1.addtwo([2,4,3],[5,6,4])\n",
    "    print (int(str(s)[::-1]))\n",
    "    \n",
    "\n",
    "            \n"
   ]
  },
  {
   "cell_type": "code",
   "execution_count": null,
   "metadata": {},
   "outputs": [],
   "source": []
  },
  {
   "cell_type": "code",
   "execution_count": null,
   "metadata": {},
   "outputs": [],
   "source": []
  }
 ],
 "metadata": {
  "kernelspec": {
   "display_name": "py3guofeng",
   "language": "python",
   "name": "py3guofeng"
  },
  "language_info": {
   "codemirror_mode": {
    "name": "ipython",
    "version": 3
   },
   "file_extension": ".py",
   "mimetype": "text/x-python",
   "name": "python",
   "nbconvert_exporter": "python",
   "pygments_lexer": "ipython3",
   "version": "3.4.5"
  }
 },
 "nbformat": 4,
 "nbformat_minor": 2
}
