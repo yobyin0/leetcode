{
 "cells": [
  {
   "cell_type": "code",
   "execution_count": 9,
   "metadata": {},
   "outputs": [
    {
     "name": "stdout",
     "output_type": "stream",
     "text": [
      "{'c': 2}\n",
      "{}\n",
      "{'a': 0}\n",
      "{'b': 1, 'a': 0}\n",
      "{'b': 1, 'a': 0, 'c': 2}\n",
      "{'b': 1, 'a': 0, 'c': 2, 'd': 3}\n",
      "4\n"
     ]
    }
   ],
   "source": [
    "class Solution:\n",
    "    \"\"\"\n",
    "    @param: s: a string\n",
    "    @return: an integer\n",
    "    \"\"\"\n",
    "    def lengthOfLongestSubstring(self, s):\n",
    "        # write your code here\n",
    "        res = 0\n",
    "        if s is None or len(s) == 0:\n",
    "            return res\n",
    "        d = {}\n",
    "        tmp = 0\n",
    "        start = 0\n",
    "        for i in range(len(s)):\n",
    "            if s[i] in d and d[s[i]] >= start:\n",
    "                start = d[s[i]] + 1\n",
    "            tmp = i - start + 1\n",
    "            print(d)\n",
    "            d[s[i]] = i\n",
    "            res = max(res, tmp)\n",
    "        return res\n",
    "    \n",
    "if __name__=='__main__':\n",
    "    s=Solution()\n",
    "   # x={}\n",
    "    #x['c']=1\n",
    "    #x['c']=2\n",
    "    print(x)\n",
    "    print(s.lengthOfLongestSubstring('abcdd'))\n"
   ]
  },
  {
   "cell_type": "code",
   "execution_count": null,
   "metadata": {},
   "outputs": [],
   "source": []
  },
  {
   "cell_type": "code",
   "execution_count": null,
   "metadata": {},
   "outputs": [],
   "source": []
  }
 ],
 "metadata": {
  "kernelspec": {
   "display_name": "py3guofeng",
   "language": "python",
   "name": "py3guofeng"
  },
  "language_info": {
   "codemirror_mode": {
    "name": "ipython",
    "version": 3
   },
   "file_extension": ".py",
   "mimetype": "text/x-python",
   "name": "python",
   "nbconvert_exporter": "python",
   "pygments_lexer": "ipython3",
   "version": "3.4.5"
  }
 },
 "nbformat": 4,
 "nbformat_minor": 2
}
