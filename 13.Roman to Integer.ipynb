{
 "cells": [
  {
   "cell_type": "code",
   "execution_count": 12,
   "metadata": {},
   "outputs": [
    {
     "name": "stdout",
     "output_type": "stream",
     "text": [
      "1000\n",
      "2000\n",
      "2001\n"
     ]
    }
   ],
   "source": [
    "class romatointeger(object):\n",
    "    def gettointeger(self,s):\n",
    "        sum=0\n",
    "        #（1）、X（10）、C（100）、M（1000）、V（5）、L（50）、D（500）。记数的方法：\n",
    "        transfer={'M':1000,'D':500,'C':100,'L':50,'X':10,'V':5,'I':1}\n",
    "        for i in range(len(s)-1):\n",
    "            if transfer[s[i]]<transfer[s[i+1]]:\n",
    "                sum=sum-transfer[s[i]]\n",
    "            else:\n",
    "                sum=sum+transfer[s[i]]\n",
    "        return sum+transfer[s[-1]]\n",
    "\n",
    "\n",
    "    \n",
    "if __name__=='__main__':\n",
    "    r=romatointeger()\n",
    "    print(r.gettointeger('MMI'))\n",
    "            \n",
    "                \n",
    "        "
   ]
  },
  {
   "cell_type": "code",
   "execution_count": null,
   "metadata": {},
   "outputs": [],
   "source": []
  }
 ],
 "metadata": {
  "kernelspec": {
   "display_name": "py3guofeng",
   "language": "python",
   "name": "py3guofeng"
  },
  "language_info": {
   "codemirror_mode": {
    "name": "ipython",
    "version": 3
   },
   "file_extension": ".py",
   "mimetype": "text/x-python",
   "name": "python",
   "nbconvert_exporter": "python",
   "pygments_lexer": "ipython3",
   "version": "3.4.5"
  }
 },
 "nbformat": 4,
 "nbformat_minor": 2
}
