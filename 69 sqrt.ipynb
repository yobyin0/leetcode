{
 "cells": [
  {
   "cell_type": "markdown",
   "metadata": {},
   "source": [
    "实现 int sqrt(int x) 函数。\n",
    "\n",
    "计算并返回 x 的平方根，其中 x 是非负整数。\n",
    "\n",
    "由于返回类型是整数，结果只保留整数的部分，小数部分将被舍去"
   ]
  },
  {
   "cell_type": "code",
   "execution_count": 13,
   "metadata": {},
   "outputs": [
    {
     "name": "stdout",
     "output_type": "stream",
     "text": [
      "3.0\n"
     ]
    }
   ],
   "source": [
    "import math\n",
    "class solution :\n",
    "    def getsqrt(self,x):\n",
    "        \n",
    "        begin=1\n",
    "        end=x\n",
    "        if x<=1:\n",
    "            return x\n",
    "        while True:\n",
    "            mid = (begin+end)/2\n",
    "            if mid**2 == x:\n",
    "                return mid\n",
    "            # x处于[begin,end]中间的一个数\n",
    "            # 如果mid**2 < x，且(mid+1) **2 >x，则mid为最接近于x的平方根\n",
    "            if mid**2 < x and (mid+1)**2 > x:\n",
    "                return int(mid)\n",
    "            elif mid**2 < x:\n",
    "                begin = int(mid)\n",
    "                end = end\n",
    "                continue\n",
    "            else:\n",
    "                begin = begin\n",
    "                end = int(mid)\n",
    "                continue \n",
    "if __name__=='__main__':\n",
    "    s=solution()\n",
    "    print(s.getsqrt(9))"
   ]
  },
  {
   "cell_type": "code",
   "execution_count": null,
   "metadata": {},
   "outputs": [],
   "source": []
  },
  {
   "cell_type": "code",
   "execution_count": null,
   "metadata": {},
   "outputs": [],
   "source": []
  },
  {
   "cell_type": "code",
   "execution_count": null,
   "metadata": {},
   "outputs": [],
   "source": []
  }
 ],
 "metadata": {
  "kernelspec": {
   "display_name": "py3guofeng",
   "language": "python",
   "name": "py3guofeng"
  },
  "language_info": {
   "codemirror_mode": {
    "name": "ipython",
    "version": 3
   },
   "file_extension": ".py",
   "mimetype": "text/x-python",
   "name": "python",
   "nbconvert_exporter": "python",
   "pygments_lexer": "ipython3",
   "version": "3.4.5"
  }
 },
 "nbformat": 4,
 "nbformat_minor": 2
}
