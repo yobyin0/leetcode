{
 "cells": [
  {
   "cell_type": "markdown",
   "metadata": {},
   "source": [
    "给定一个整数数组 nums ，找到一个具有最大和的连续子数组（子数组最少包含一个元素），返回其最大和"
   ]
  },
  {
   "cell_type": "code",
   "execution_count": 6,
   "metadata": {},
   "outputs": [
    {
     "name": "stdout",
     "output_type": "stream",
     "text": [
      "maxsum is:  7\n"
     ]
    }
   ],
   "source": [
    "def maxSum(list_of_nums):\n",
    "    maxsum = 0\n",
    "    maxtmp = 0\n",
    "    for i in range(len(list_of_nums)):\n",
    "        if maxtmp <= 0:\n",
    "            maxtmp = list_of_nums[i]\n",
    "        else:\n",
    "            maxtmp += list_of_nums[i]\n",
    "\n",
    "        if(maxtmp > maxsum):\n",
    "            maxsum = maxtmp\n",
    "\n",
    "    return maxsum\n",
    "\n",
    "if __name__ == '__main__':\n",
    "    list_of_num = [1,-3,3,4,-6]\n",
    "    maxsum = maxSum(list_of_num)\n",
    "    print (\"maxsum is: \",maxsum)"
   ]
  },
  {
   "cell_type": "code",
   "execution_count": null,
   "metadata": {},
   "outputs": [],
   "source": []
  },
  {
   "cell_type": "code",
   "execution_count": null,
   "metadata": {},
   "outputs": [],
   "source": []
  }
 ],
 "metadata": {
  "kernelspec": {
   "display_name": "py3guofeng",
   "language": "python",
   "name": "py3guofeng"
  },
  "language_info": {
   "codemirror_mode": {
    "name": "ipython",
    "version": 3
   },
   "file_extension": ".py",
   "mimetype": "text/x-python",
   "name": "python",
   "nbconvert_exporter": "python",
   "pygments_lexer": "ipython3",
   "version": "3.4.5"
  }
 },
 "nbformat": 4,
 "nbformat_minor": 2
}
