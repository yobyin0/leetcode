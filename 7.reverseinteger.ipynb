{
 "cells": [
  {
   "cell_type": "code",
   "execution_count": 19,
   "metadata": {},
   "outputs": [
    {
     "name": "stdout",
     "output_type": "stream",
     "text": [
      "0\n",
      "3\n",
      "32\n",
      "321\n",
      "321\n"
     ]
    }
   ],
   "source": [
    "class Solution(object):\n",
    "    def reverse(self, x):\n",
    "        \"\"\"\n",
    "        :type x: int\n",
    "        :rtype: int\n",
    "        \"\"\"\n",
    "        print(str(x)[::-1])\n",
    "        x = int(str(x)[::-1]) if x >= 0 else - int(str(-x)[::-1])\n",
    "        return x if x < 2147483648 and x >= -2147483648 else 0\n",
    "\n",
    "class Solution2:\n",
    "    # @param {int} n the integer to be reversed\n",
    "    # @return {int} the reversed integer\n",
    "    def reverseInteger(self, n):\n",
    "        # Write your code here\n",
    "        if -10<n<10 :\n",
    "            return n\n",
    "        n1=abs(n)               #都按正数进行操作\n",
    "        b=str(n1)\n",
    "        if len(b)>10:\n",
    "            return 0\n",
    "        v=''\n",
    "        for i in range(len(b)):   #反转\n",
    "            v=v+b[-(i+1)]\n",
    "            print(int(v))\n",
    "        result=int(v)    \n",
    "        if n<0:                   #判断是否要添加符号符号\n",
    "            result=-result\n",
    "        if -2147483648 < result < 2147483647:  #整数不溢出的条件\n",
    "            return result\n",
    "        else:\n",
    "            return 0\n",
    "            \n",
    "\n",
    "if __name__=='__main__':\n",
    "    s=Solution2()\n",
    "    print(s.reverseInteger(1230))"
   ]
  },
  {
   "cell_type": "code",
   "execution_count": null,
   "metadata": {},
   "outputs": [],
   "source": []
  },
  {
   "cell_type": "code",
   "execution_count": null,
   "metadata": {},
   "outputs": [],
   "source": []
  },
  {
   "cell_type": "code",
   "execution_count": null,
   "metadata": {},
   "outputs": [],
   "source": []
  }
 ],
 "metadata": {
  "kernelspec": {
   "display_name": "py3guofeng",
   "language": "python",
   "name": "py3guofeng"
  },
  "language_info": {
   "codemirror_mode": {
    "name": "ipython",
    "version": 3
   },
   "file_extension": ".py",
   "mimetype": "text/x-python",
   "name": "python",
   "nbconvert_exporter": "python",
   "pygments_lexer": "ipython3",
   "version": "3.4.5"
  }
 },
 "nbformat": 4,
 "nbformat_minor": 2
}
