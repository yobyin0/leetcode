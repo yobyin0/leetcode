{
 "cells": [
  {
   "cell_type": "code",
   "execution_count": 7,
   "metadata": {},
   "outputs": [
    {
     "name": "stdout",
     "output_type": "stream",
     "text": [
      "ddfad\n"
     ]
    }
   ],
   "source": [
    "class longestprefix(object):\n",
    "    def findit(self,strlist):\n",
    "        if len(strlist)==0:\n",
    "            return ''\n",
    "        if len(strlist)==1:\n",
    "            return strlist[0]\n",
    "        for i in range(len(strlist[0])):\n",
    "            for j=1 in range\n",
    "            \n",
    "if __name__=='__main__':\n",
    "    l=longestprefix()\n",
    "    print(l.findit(['ddfad']))\n",
    "        "
   ]
  },
  {
   "cell_type": "code",
   "execution_count": null,
   "metadata": {},
   "outputs": [],
   "source": []
  }
 ],
 "metadata": {
  "kernelspec": {
   "display_name": "py3guofeng",
   "language": "python",
   "name": "py3guofeng"
  },
  "language_info": {
   "codemirror_mode": {
    "name": "ipython",
    "version": 3
   },
   "file_extension": ".py",
   "mimetype": "text/x-python",
   "name": "python",
   "nbconvert_exporter": "python",
   "pygments_lexer": "ipython3",
   "version": "3.4.5"
  }
 },
 "nbformat": 4,
 "nbformat_minor": 2
}
